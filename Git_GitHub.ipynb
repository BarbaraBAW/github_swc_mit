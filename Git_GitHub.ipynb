{
 "cells": [
  {
   "cell_type": "markdown",
   "metadata": {},
   "source": [
    "# Version Control with Git and GitHub\n",
    "\n",
    "This notebook is to keep the notes for introducing Git and GitHub during the Software Carpentry Workshop (SWC) @ MIT on January 9 - 10, 2020. The content of this introduction is based on the SWC lesson on \"[Version Control with Git](http://swcarpentry.github.io/git-novice/)\" but we are using the application GitHub Desktop instead of the Git Bach command line. "
   ]
  },
  {
   "cell_type": "markdown",
   "metadata": {},
   "source": [
    "## Automated Version Control"
   ]
  },
  {
   "cell_type": "markdown",
   "metadata": {},
   "source": [
    "### Purpose\n",
    "* Keep track of **what each person did and when** in a project.\n",
    "* Go back to and question specific changes as well as \"undo\" when needed\n",
    "* Notify conflict between copies from collaborators and merge changes selectively\n",
    "\n",
    "Useful for any digital projects, including software coding, data analysis, visualization, and presenting etc. "
   ]
  },
  {
   "cell_type": "markdown",
   "metadata": {},
   "source": [
    "![Naming Convention Saga with \"Final\"](http://swcarpentry.github.io/git-novice/fig/phd101212s.png)"
   ]
  },
  {
   "cell_type": "markdown",
   "metadata": {},
   "source": [
    "### Version control with word processors \n",
    "E.g. Microsoft Word - track changes & Office365/WordOnline; GoogleDoc / Version history, LibreOffice / Recording and Displaying Changes\n",
    "\n",
    "* Record progress that can be rewinded to start\n",
    "![Record Changes](http://swcarpentry.github.io/git-novice/fig/play-changes.svg)\n",
    "\n",
    "* Two users can make independent sets of changes on the same document\n",
    "![Resulting two sets](http://swcarpentry.github.io/git-novice/fig/versions.svg)\n",
    "\n",
    "* Owner can incoporate multiple users' changes to the same base document\n",
    "![Merge changes](http://swcarpentry.github.io/git-novice/fig/merge.svg)"
   ]
  },
  {
   "cell_type": "markdown",
   "metadata": {},
   "source": [
    "## Git, GitHub, GitHub Desktop, and GitHub Enterprise @ MIT\n",
    "* **Git** - the open source version control tool on your local computer \n",
    "\n",
    "* **GitHub** - A cloud server hosting Git repositories; can be connected to your local Git repos; Currently owned by Microsoft. https://github.com\n",
    "\n",
    "* **GitHub Desktop** -  A desktop application that can simplify your workflow connecting your local repos to GitHub cloud. \n",
    "\n",
    "* **GitHub Enterprise @ MIT** - An instance of GitHub hosted by MIT for MIT students, faculty and staff use. \n",
    "https://github.mit.edu/\n",
    "\n",
    "[Read more on GitHub Enterprise @ MIT](https://ist.mit.edu/github-enterprise) \n"
   ]
  },
  {
   "cell_type": "markdown",
   "metadata": {},
   "source": [
    "## Setting Up Git and GitHub Desktop"
   ]
  },
  {
   "cell_type": "markdown",
   "metadata": {},
   "source": [
    "### Installing Git and GitHub Desktop\n",
    "Make sure you followed the instruction on [our workshop page](https://yelibrarian.github.io/2020-01-09-mit/) to:\n",
    "* Install Git\n",
    "* Install GitHub Desktop ([GitHub Help page](https://help.github.com/en/desktop/getting-started-with-github-desktop/installing-github-desktop))\n",
    "* Create an account on https://github.com \n"
   ]
  },
  {
   "cell_type": "markdown",
   "metadata": {},
   "source": [
    "### Configuring Git\n",
    "Configure Git with:\n",
    "* your name and email address\n",
    "* what our preferred text editor is\n",
    "* and that we want to use these settings globally (i.e. for every project). \n",
    "\n",
    "#### Checking Git version\n",
    "```\n",
    "$ git --version\n",
    "\n",
    "```\n",
    "\n",
    "#### Configuring your identity\n",
    "In Git Bash (Windows) or Terminal (Mac), run the following using your own name and email address. These will be associated with any changes you push to GitHub later. \n",
    "\n",
    "```\n",
    " $ git config --global user.name \"Vlad Dracula\"\n",
    "\n",
    " $ git config --global user.email \"vlad@tran.sylvan.ia\"\n",
    "```\n",
    "\n",
    "#### Configuring your default text editor\n",
    "```\n",
    "# to nano\n",
    "$ git config --global core.editor \"nano -w\"\n",
    "\n",
    "# or to Atom if you have it installed\n",
    "$ git config --global core.editor \"atom --wait\"\n",
    "\n",
    "```\n",
    "#### Check your settings and get help\n",
    "```\n",
    "$ git config --list\n",
    "\n",
    "$ git config -h\n",
    "\n",
    "$ git config --help\n",
    "\n",
    "```\n",
    "\n",
    "It is necessary to configure Git locally before we start using GitHub Desktop to connect to GitHub."
   ]
  },
  {
   "cell_type": "markdown",
   "metadata": {},
   "source": [
    "### Setting up GitHub Desktop\n",
    "\n",
    "Read more on [GitHub Help](https://help.github.com/en/desktop/getting-started-with-github-desktop/setting-up-github-desktop) "
   ]
  },
  {
   "cell_type": "markdown",
   "metadata": {},
   "source": [
    "### Authenticating to GitHub\n",
    "Use **GitHub Desktop** menu\n",
    "* on Mac, Preference --> Accounts --> Sign in GitHub.com with your account\n",
    "* on Windows, File --> Options --> Accounts --> Sign in GitHub.com with your account "
   ]
  },
  {
   "cell_type": "markdown",
   "metadata": {},
   "source": [
    "### Configuring Git for GitHub Desktop\n",
    "Use **GitHub Desktop** menu\n",
    "* on Mac, Preference --> Git --> add your name and email\n",
    "* on Windows, File --> Options --> Git --> add your name and email"
   ]
  },
  {
   "cell_type": "markdown",
   "metadata": {},
   "source": [
    "## Creating a local repository\n",
    "Use **GitHub Desktop**\n",
    "* *Create a New Repository on your Hard Drive...*\n",
    "Or *File --> New Repository...*\n",
    "\n",
    "Fill out the fields in the form and *Create Repository* with:\n",
    "* Repo (i.e. folder) name: **planets**\n",
    "\n",
    "![NewRepoFields](https://help.github.com/assets/images/help/desktop/getting-started-guide/create-a-new-repository-options.png)\n",
    "\n"
   ]
  },
  {
   "cell_type": "markdown",
   "metadata": {},
   "source": []
  }
 ],
 "metadata": {
  "kernelspec": {
   "display_name": "Python 3",
   "language": "python",
   "name": "python3"
  },
  "language_info": {
   "codemirror_mode": {
    "name": "ipython",
    "version": 3
   },
   "file_extension": ".py",
   "mimetype": "text/x-python",
   "name": "python",
   "nbconvert_exporter": "python",
   "pygments_lexer": "ipython3",
   "version": "3.7.4"
  }
 },
 "nbformat": 4,
 "nbformat_minor": 4
}
